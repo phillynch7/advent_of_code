{
 "cells": [
  {
   "cell_type": "markdown",
   "metadata": {
    "heading_collapsed": true
   },
   "source": [
    "# FUNCTIONS"
   ]
  },
  {
   "cell_type": "markdown",
   "metadata": {
    "hidden": true
   },
   "source": [
    "https://github.com/norvig/pytudes/blob/master/ipynb/Advent%202017.ipynb"
   ]
  },
  {
   "cell_type": "code",
   "execution_count": null,
   "metadata": {
    "hidden": true
   },
   "outputs": [],
   "source": [
    "from functools import partial"
   ]
  },
  {
   "cell_type": "code",
   "execution_count": null,
   "metadata": {
    "hidden": true
   },
   "outputs": [],
   "source": [
    "# Python 3.x Utility Functions\n",
    "\n",
    "%matplotlib inline\n",
    "import matplotlib.pyplot as plt\n",
    "\n",
    "import os\n",
    "import urllib.request\n",
    "\n",
    "import re\n",
    "import numpy as np\n",
    "import math\n",
    "import random\n",
    "import time\n",
    "\n",
    "from collections import Counter, defaultdict, namedtuple, deque, abc, OrderedDict\n",
    "from functools   import lru_cache\n",
    "from statistics  import mean, median, mode, stdev, variance\n",
    "from itertools   import (permutations, combinations, chain, cycle, product, islice, \n",
    "                         takewhile, zip_longest, count as count_from)\n",
    "from heapq       import heappop, heappush\n",
    "from numba       import jit\n",
    "\n",
    "letters  = 'abcdefghijklmnopqrstuvwxyz'\n",
    "\n",
    "cache = lru_cache(None)\n",
    "\n",
    "cat = ''.join\n",
    "\n",
    "Ø   = frozenset() # Empty set\n",
    "inf = float('inf')\n",
    "BIG = 10 ** 999\n",
    "\n",
    "################ Functions for Input, Parsing\n",
    "\n",
    "def Input(day):\n",
    "    \"Open this day's input file.\"\n",
    "    filename = 'input{}.txt'.format(day)\n",
    "    return open(filename)\n",
    "\n",
    "def Inputstr(day, year=2017): \n",
    "    \"The contents of this day's input file as a str.\"\n",
    "    return Input(day).read().rstrip('\\n')\n",
    "    \n",
    "def Array(lines):\n",
    "    \"Parse an iterable of str lines into a 2-D array. If `lines` is a str, splitlines.\"\n",
    "    if isinstance(lines, str): lines = lines.splitlines()\n",
    "    return mapt(Vector, lines)\n",
    "\n",
    "def Vector(line):\n",
    "    \"Parse a str into a tuple of atoms (numbers or str tokens).\"\n",
    "    return mapt(Atom, line.replace(',', ' ').split())\n",
    "\n",
    "def Integers(text): \n",
    "    \"Return a tuple of all integers in a string.\"\n",
    "    return mapt(int, re.findall(r'-?\\b\\d+\\b', text))\n",
    "\n",
    "def Atom(token):\n",
    "    \"Parse a str token into a number, or leave it as a str.\"\n",
    "    try:\n",
    "        return int(token)\n",
    "    except ValueError:\n",
    "        try:\n",
    "            return float(token)\n",
    "        except ValueError:\n",
    "            return token\n",
    "        \n",
    "def error(err=RuntimeError, *args): raise err(*args)\n",
    "\n",
    "################ Functions on Iterables\n",
    "\n",
    "def first(iterable, default=None): \n",
    "    \"The first item in an iterable, or default if it is empty.\"\n",
    "    return next(iter(iterable), default)\n",
    "\n",
    "def first_true(iterable, pred=None, default=None):\n",
    "    \"\"\"Returns the first true value in the iterable.\n",
    "    If no true value is found, returns *default*\n",
    "    If *pred* is not None, returns the first item\n",
    "    for which pred(item) is true.\"\"\"\n",
    "    # first_true([a,b,c], default=x) --> a or b or c or x\n",
    "    # first_true([a,b], fn, x) --> a if fn(a) else b if fn(b) else x\n",
    "    return next(filter(pred, iterable), default)\n",
    "\n",
    "def nth(iterable, n, default=None):\n",
    "    \"Returns the nth item of iterable, or a default value\"\n",
    "    return next(islice(iterable, n, None), default)\n",
    "\n",
    "def upto(iterable, maxval):\n",
    "    \"From a monotonically increasing iterable, generate all the values <= maxval.\"\n",
    "    # Why <= maxval rather than < maxval? In part because that's how Ruby's upto does it.\n",
    "    return takewhile(lambda x: x <= maxval, iterable)\n",
    "\n",
    "identity = lambda x: x\n",
    "\n",
    "def groupby(iterable, key=identity):\n",
    "    \"Return a dict of {key(item): [items...]} grouping all items in iterable by keys.\"\n",
    "    groups = defaultdict(list)\n",
    "    for item in iterable:\n",
    "        groups[key(item)].append(item)\n",
    "    return groups\n",
    "\n",
    "def grouper(iterable, n, fillvalue=None):\n",
    "    \"\"\"Collect data into fixed-length chunks:\n",
    "    grouper('ABCDEFG', 3, 'x') --> ABC DEF Gxx\"\"\"\n",
    "    args = [iter(iterable)] * n\n",
    "    return zip_longest(*args, fillvalue=fillvalue)\n",
    "\n",
    "def overlapping(iterable, n):\n",
    "    \"\"\"Generate all (overlapping) n-element subsequences of iterable.\n",
    "    overlapping('ABCDEFG', 3) --> ABC BCD CDE DEF EFG\"\"\"\n",
    "    if isinstance(iterable, abc.Sequence):\n",
    "        yield from (iterable[i:i+n] for i in range(len(iterable) + 1 - n))\n",
    "    else:\n",
    "        result = deque(maxlen=n)\n",
    "        for x in iterable:\n",
    "            result.append(x)\n",
    "            if len(result) == n:\n",
    "                yield tuple(result)\n",
    "                \n",
    "def pairwise(iterable):\n",
    "    \"s -> (s0,s1), (s1,s2), (s2, s3), ...\"\n",
    "    return overlapping(iterable, 2)\n",
    "\n",
    "def sequence(iterable, type=tuple):\n",
    "    \"Coerce iterable to sequence: leave alone if already a sequence, else make it `type`.\"\n",
    "    return iterable if isinstance(iterable, abc.Sequence) else type(iterable)\n",
    "\n",
    "def join(iterable, sep=''):\n",
    "    \"Join the items in iterable, converting each to a string first.\"\n",
    "    return sep.join(map(str, iterable))\n",
    "                \n",
    "def powerset(iterable):\n",
    "    \"Yield all subsets of items.\"\n",
    "    items = list(iterable)\n",
    "    for r in range(len(items)+1):\n",
    "        for c in combinations(items, r):\n",
    "            yield c\n",
    "            \n",
    "def quantify(iterable, pred=bool):\n",
    "    \"Count how many times the predicate is true.\"\n",
    "    return sum(map(pred, iterable))\n",
    "\n",
    "def length(iterable):\n",
    "    \"Same as len(list(iterable)), but without consuming memory.\"\n",
    "    return sum(1 for _ in iterable)\n",
    "\n",
    "def shuffled(iterable):\n",
    "    \"Create a new list out of iterable, and shuffle it.\"\n",
    "    new = list(iterable)\n",
    "    random.shuffle(new)\n",
    "    return new\n",
    "    \n",
    "flatten = chain.from_iterable\n",
    "\n",
    "################ Functional programming\n",
    "\n",
    "def mapt(fn, *args): \n",
    "    \"Do a map, and make the results into a tuple.\"\n",
    "    return tuple(map(fn, *args))\n",
    "\n",
    "def map2d(fn, grid):\n",
    "    \"Apply fn to every element in a 2-dimensional grid.\"\n",
    "    return tuple(mapt(fn, row) for row in grid)\n",
    "\n",
    "def repeat(n, fn, arg, *args, **kwds):\n",
    "    \"Repeat arg = fn(arg) n times, return arg.\"\n",
    "    return nth(repeatedly(fn, arg, *args, **kwds), n)\n",
    "\n",
    "def repeatedly(fn, arg, *args, **kwds):\n",
    "    \"Yield arg, fn(arg), fn(fn(arg)), ...\"\n",
    "    yield arg\n",
    "    while True:\n",
    "        arg = fn(arg, *args, **kwds)\n",
    "        yield arg\n",
    "        \n",
    "def compose(f, g): \n",
    "    \"The function that computes f(g(x)).\"\n",
    "    return lambda x: f(g(x))\n",
    "\n",
    "################ Making immutable objects\n",
    "            \n",
    "class Set(frozenset):\n",
    "    \"A frozenset, but with a prettier printer.\"\n",
    "    def __repr__(self): return '{' + join(sorted(self), ', ') + '}'\n",
    "    \n",
    "def canon(items, typ=None):\n",
    "    \"Canonicalize these order-independent items into a hashable canonical form.\"\n",
    "    typ = typ or (cat if isinstance(items, str) else tuple)\n",
    "    return typ(sorted(items))\n",
    "            \n",
    "################ Math Functions\n",
    "            \n",
    "def transpose(matrix): return tuple(zip(*matrix))\n",
    "\n",
    "def isqrt(n):\n",
    "    \"Integer square root (rounds down).\"\n",
    "    return int(n ** 0.5)\n",
    "\n",
    "def ints(start, end, step=1):\n",
    "    \"The integers from start to end, inclusive: range(start, end+1)\"\n",
    "    return range(start, end + 1, step)\n",
    "\n",
    "def floats(start, end, step=1.0):\n",
    "    \"Yield floats from start to end (inclusive), by increments of step.\"\n",
    "    m = (1.0 if step >= 0 else -1.0)\n",
    "    while start * m <= end * m:\n",
    "        yield start\n",
    "        start += step\n",
    "        \n",
    "def multiply(numbers):\n",
    "    \"Multiply all the numbers together.\"\n",
    "    result = 1\n",
    "    for n in numbers:\n",
    "        result *= n\n",
    "    return result\n",
    "\n",
    "import operator as op\n",
    "\n",
    "operations = {'>': op.gt, '>=': op.ge, '==': op.eq,\n",
    "              '<': op.lt, '<=': op.le, '!=': op.ne,\n",
    "              '+': op.add, '-': op.sub, '*': op.mul, \n",
    "              '/': op.truediv, '**': op.pow}\n",
    "\n",
    "################ 2-D points implemented using (x, y) tuples\n",
    "\n",
    "def X(point): return point[0]\n",
    "def Y(point): return point[1]\n",
    "\n",
    "origin = (0, 0)\n",
    "HEADINGS = UP, LEFT, DOWN, RIGHT = (0, -1), (-1, 0), (0, 1), (1, 0)\n",
    "\n",
    "def turn_right(heading): return HEADINGS[HEADINGS.index(heading) - 1]\n",
    "def turn_around(heading):return HEADINGS[HEADINGS.index(heading) - 2]\n",
    "def turn_left(heading):  return HEADINGS[HEADINGS.index(heading) - 3]\n",
    "\n",
    "def add(A, B): \n",
    "    \"Element-wise addition of two n-dimensional vectors.\"\n",
    "    return mapt(sum, zip(A, B))\n",
    "\n",
    "def neighbors4(point): \n",
    "    \"The four neighboring squares.\"\n",
    "    x, y = point\n",
    "    return (          (x, y-1),\n",
    "            (x-1, y),           (x+1, y), \n",
    "                      (x, y+1))\n",
    "\n",
    "def neighbors8(point): \n",
    "    \"The eight neighboring squares.\"\n",
    "    x, y = point \n",
    "    return ((x-1, y-1), (x, y-1), (x+1, y-1),\n",
    "            (x-1, y),             (x+1, y),\n",
    "            (x-1, y+1), (x, y+1), (x+1, y+1))\n",
    "\n",
    "def cityblock_distance(P, Q=origin): \n",
    "    \"Manhatten distance between two points.\"\n",
    "    return sum(abs(p - q) for p, q in zip(P, Q))\n",
    "\n",
    "def distance(P, Q=origin): \n",
    "    \"Straight-line (hypotenuse) distance between two points.\"\n",
    "    return sum((p - q) ** 2 for p, q in zip(P, Q)) ** 0.5\n",
    "\n",
    "def king_distance(P, Q=origin):\n",
    "    \"Number of chess King moves between two points.\"\n",
    "    return max(abs(p - q) for p, q in zip(P, Q))\n",
    "\n",
    "################ Debugging \n",
    "\n",
    "def trace1(f):\n",
    "    \"Print a trace of the input and output of a function on one line.\"\n",
    "    def traced_f(*args):\n",
    "        result = f(*args)\n",
    "        print('{}({}) = {}'.format(f.__name__, ', '.join(map(str, args)), result))\n",
    "        return result\n",
    "    return traced_f\n",
    "\n",
    "def grep(pattern, iterable):\n",
    "    \"Print lines from iterable that match pattern.\"\n",
    "    for line in iterable:\n",
    "        if re.search(pattern, line):\n",
    "            print(line)\n",
    "            \n",
    "class Struct:\n",
    "    \"A structure that can have any fields defined.\"\n",
    "    def __init__(self, **entries): self.__dict__.update(entries)\n",
    "    def __repr__(self): \n",
    "        fields = ['{}={}'.format(f, self.__dict__[f]) \n",
    "                  for f in sorted(self.__dict__)]\n",
    "        return 'Struct({})'.format(', '.join(fields))\n",
    "\n",
    "################ A* and Breadth-First Search (tracking states, not actions)\n",
    "\n",
    "def always(value): return (lambda *args: value)\n",
    "\n",
    "def Astar(start, moves_func, h_func, cost_func=always(1)):\n",
    "    \"Find a shortest sequence of states from start to a goal state (where h_func(s) == 0).\"\n",
    "    frontier  = [(h_func(start), start)] # A priority queue, ordered by path length, f = g + h\n",
    "    previous  = {start: None}  # start state has no previous state; other states will\n",
    "    path_cost = {start: 0}     # The cost of the best path to a state.\n",
    "    Path      = lambda s: ([] if (s is None) else Path(previous[s]) + [s])\n",
    "    while frontier:\n",
    "        (f, s) = heappop(frontier)\n",
    "        if h_func(s) == 0:\n",
    "            return Path(s)\n",
    "        for s2 in moves_func(s):\n",
    "            g = path_cost[s] + cost_func(s, s2)\n",
    "            if s2 not in path_cost or g < path_cost[s2]:\n",
    "                heappush(frontier, (g + h_func(s2), s2))\n",
    "                path_cost[s2] = g\n",
    "                previous[s2] = s\n",
    "\n",
    "def bfs(start, moves_func, goals):\n",
    "    \"Breadth-first search\"\n",
    "    goal_func = (goals if callable(goals) else lambda s: s in goals)\n",
    "    return Astar(start, moves_func, lambda s: (0 if goal_func(s) else 1))"
   ]
  },
  {
   "cell_type": "markdown",
   "metadata": {
    "heading_collapsed": true
   },
   "source": [
    "# DAY 1"
   ]
  },
  {
   "cell_type": "code",
   "execution_count": null,
   "metadata": {
    "hidden": true
   },
   "outputs": [],
   "source": [
    "inp = Input(1).read()[:-1]"
   ]
  },
  {
   "cell_type": "code",
   "execution_count": null,
   "metadata": {
    "hidden": true
   },
   "outputs": [],
   "source": [
    "inpn = [int(i) for i in inp.split('\\n')]"
   ]
  },
  {
   "cell_type": "code",
   "execution_count": null,
   "metadata": {
    "hidden": true
   },
   "outputs": [],
   "source": [
    "sum(inpn)"
   ]
  },
  {
   "cell_type": "code",
   "execution_count": null,
   "metadata": {
    "hidden": true
   },
   "outputs": [],
   "source": [
    "def d1p2(numbers):\n",
    "    x, xs = 0, {0}\n",
    "    for _ in range(1000):\n",
    "        for i in numbers:\n",
    "            x+=i\n",
    "            if x in xs: return x\n",
    "            xs.add(x)\n",
    "\n",
    "d1p2(inpn)"
   ]
  },
  {
   "cell_type": "markdown",
   "metadata": {
    "heading_collapsed": true
   },
   "source": [
    "# DAY 2"
   ]
  },
  {
   "cell_type": "code",
   "execution_count": null,
   "metadata": {
    "hidden": true,
    "scrolled": true
   },
   "outputs": [],
   "source": [
    "inp = Input(2).read()[:-1].split('\\n')\n",
    "inp[:3]"
   ]
  },
  {
   "cell_type": "code",
   "execution_count": null,
   "metadata": {
    "hidden": true
   },
   "outputs": [],
   "source": [
    "def d2p1(inp):\n",
    "    checks = Counter(chain.from_iterable([Counter(Counter(inp[i]).values()).keys() for i in range(len(inp))]))\n",
    "    return checks[2]*checks[3]\n",
    "\n",
    "d2p1(inp)"
   ]
  },
  {
   "cell_type": "code",
   "execution_count": null,
   "metadata": {
    "hidden": true
   },
   "outputs": [],
   "source": [
    "def d2p2(inp):\n",
    "    inp = [np.array(list(i)) for i in inp]\n",
    "    for i in range(len(inp)):\n",
    "        for j in range(i+1,len(inp)):\n",
    "            check = inp[i] == inp[j]\n",
    "            if (~check).sum()==1:\n",
    "                return cat(inp[i][check])\n",
    "\n",
    "d2p2(inp)"
   ]
  },
  {
   "cell_type": "markdown",
   "metadata": {
    "heading_collapsed": true
   },
   "source": [
    "# DAY 3"
   ]
  },
  {
   "cell_type": "code",
   "execution_count": null,
   "metadata": {
    "hidden": true
   },
   "outputs": [],
   "source": [
    "inp = Input(3).read()[:-1].split('\\n')\n",
    "inp[:5]"
   ]
  },
  {
   "cell_type": "code",
   "execution_count": null,
   "metadata": {
    "hidden": true
   },
   "outputs": [],
   "source": [
    "def parse(line):\n",
    "    return [int(i) for i in re.match(r\"#\\d+ @ (\\d+),(\\d+): (\\d+)x(\\d+)\", line).groups()]"
   ]
  },
  {
   "cell_type": "code",
   "execution_count": null,
   "metadata": {
    "hidden": true
   },
   "outputs": [],
   "source": [
    "inp_parsed = [parse(i) for i in inp]\n",
    "inp_parsed[:5]"
   ]
  },
  {
   "cell_type": "code",
   "execution_count": null,
   "metadata": {
    "hidden": true
   },
   "outputs": [],
   "source": [
    "fabric = np.zeros((1000,1000))\n",
    "for f in inp_parsed:\n",
    "    fabric[f[1]:f[1]+f[3] , f[0]:f[0]+f[2]] += 1\n",
    "\n",
    "(fabric>1).sum()"
   ]
  },
  {
   "cell_type": "code",
   "execution_count": null,
   "metadata": {
    "hidden": true
   },
   "outputs": [],
   "source": [
    "for i,f in enumerate(inp_parsed):\n",
    "    if (fabric[f[1]:f[1]+f[3] , f[0]:f[0]+f[2]] == 1).min():\n",
    "        print(inp[i])"
   ]
  },
  {
   "cell_type": "markdown",
   "metadata": {
    "heading_collapsed": true
   },
   "source": [
    "# DAY 4"
   ]
  },
  {
   "cell_type": "code",
   "execution_count": null,
   "metadata": {
    "hidden": true
   },
   "outputs": [],
   "source": [
    "from functools import partial"
   ]
  },
  {
   "cell_type": "code",
   "execution_count": null,
   "metadata": {
    "hidden": true
   },
   "outputs": [],
   "source": [
    "inp = sorted(Input(4).read()[:-1].split('\\n'))\n",
    "inp[:5]"
   ]
  },
  {
   "cell_type": "code",
   "execution_count": null,
   "metadata": {
    "hidden": true
   },
   "outputs": [],
   "source": [
    "def parse(line):\n",
    "    return re.match(r\"\\[(\\d\\d\\d\\d-\\d\\d-\\d\\d) (\\d\\d):(\\d\\d)] (Guard #(\\d+))?(falls asleep)?(wakes up)?\", line).groups()"
   ]
  },
  {
   "cell_type": "code",
   "execution_count": null,
   "metadata": {
    "hidden": true
   },
   "outputs": [],
   "source": [
    "midnight_array = partial(np.zeros, shape=(60))\n",
    "guards = defaultdict(midnight_array)\n",
    "for line in inp:\n",
    "    dt,hr,mn,g,gid,sleeps,wakes = parse(line)\n",
    "    if g: cur_gid=int(gid)\n",
    "    if hr=='00' and wakes:  guards[cur_gid][int(mn):] -= 1\n",
    "    if hr=='00' and sleeps: guards[cur_gid][int(mn):] += 1"
   ]
  },
  {
   "cell_type": "code",
   "execution_count": null,
   "metadata": {
    "hidden": true
   },
   "outputs": [],
   "source": [
    "# part 1\n",
    "gid = sorted(guards, key=lambda x: guards[x].sum(), reverse=True)[0]\n",
    "gid * guards[gid].argmax()"
   ]
  },
  {
   "cell_type": "code",
   "execution_count": null,
   "metadata": {
    "hidden": true
   },
   "outputs": [],
   "source": [
    "# part 2\n",
    "gid = sorted(guards, key=lambda x: max(guards[x]), reverse=True)[0]\n",
    "gid * guards[gid].argmax()"
   ]
  },
  {
   "cell_type": "markdown",
   "metadata": {
    "heading_collapsed": true
   },
   "source": [
    "# DAY 5"
   ]
  },
  {
   "cell_type": "code",
   "execution_count": null,
   "metadata": {
    "hidden": true
   },
   "outputs": [],
   "source": [
    "inp = Input(5).read()[:-1]"
   ]
  },
  {
   "cell_type": "code",
   "execution_count": null,
   "metadata": {
    "hidden": true
   },
   "outputs": [],
   "source": [
    "ll = 'abcdefghijklmnopqrstuvwxyz'\n",
    "lu = letters.upper()"
   ]
  },
  {
   "cell_type": "code",
   "execution_count": null,
   "metadata": {
    "hidden": true
   },
   "outputs": [],
   "source": [
    "def d5p1(inp):\n",
    "    inp = list(inp)\n",
    "    i = 0\n",
    "    while True:\n",
    "        if i+1==len(inp): break\n",
    "        if inp[i] == inp[i+1].swapcase():\n",
    "            inp.pop(i)\n",
    "            inp.pop(i)\n",
    "            i = max(i-2,-1)\n",
    "        i+=1\n",
    "    return len(inp)\n",
    "\n",
    "d5p1(inp)"
   ]
  },
  {
   "cell_type": "code",
   "execution_count": null,
   "metadata": {
    "hidden": true
   },
   "outputs": [],
   "source": [
    "min([d5p1(inp.replace(ll[i],'').replace(lu[i],''))] for i in range(26))"
   ]
  },
  {
   "cell_type": "markdown",
   "metadata": {},
   "source": [
    "# DAY 6"
   ]
  },
  {
   "cell_type": "code",
   "execution_count": null,
   "metadata": {},
   "outputs": [],
   "source": [
    "inp = Input(6).read()[:-1].splitlines()"
   ]
  },
  {
   "cell_type": "code",
   "execution_count": null,
   "metadata": {},
   "outputs": [],
   "source": [
    "inp = ['0, 1', '2, 2']"
   ]
  },
  {
   "cell_type": "code",
   "execution_count": null,
   "metadata": {},
   "outputs": [],
   "source": [
    "def parse(line): return tuple(int(x) for x in re.match(r\"(\\d+), (\\d+)\", line).groups())\n",
    "points = [parse(line) for i,line in enumerate(inp)]\n",
    "\n",
    "# move points min to 1,1\n",
    "# x_min = min([X(p) for p in points])\n",
    "# y_min = min([Y(p) for p in points])\n",
    "# points = [(p[0]-x_min, p[1]-y_min) for p in points]\n",
    "searched_points = set(points)\n",
    "\n",
    "# create grid\n",
    "x_max = max([X(p) for p in points])#+2\n",
    "y_max = max([Y(p) for p in points])#+2\n",
    "grid =  np.zeros((x_max+1, y_max+1), dtype=int)\n",
    "for i,p in enumerate(points):\n",
    "    grid[X(p),Y(p)] = i+1"
   ]
  },
  {
   "cell_type": "code",
   "execution_count": null,
   "metadata": {},
   "outputs": [],
   "source": [
    "def p_in_grid(p, x_min, y_min, x_max, y_max):\n",
    "    return True if p[0]>=x_min and p[1]>=y_min and p[0]<=x_max and p[1]<=y_max else False\n",
    "\n",
    "def n4(p):\n",
    "    x, y = p\n",
    "    ps = ((x, y-1), (x-1, y), (x+1, y), (x, y+1))\n",
    "    return tuple(p for p in ps if p_in_grid(p,0,0,x_max,y_max))\n",
    "\n",
    "search_points = set(chain.from_iterable([n4(p) for p in points]))"
   ]
  },
  {
   "cell_type": "code",
   "execution_count": null,
   "metadata": {},
   "outputs": [],
   "source": [
    "for i in range(1000):\n",
    "    redo_pts = []\n",
    "    grid_tmp = np.zeros_like(grid)\n",
    "    for sp in search_points:\n",
    "        n4_points = Counter([grid[p] for p in n4(sp) if (grid[p]!=0) and (grid[p]!=-1)])\n",
    "        if len(n4_points)==1: grid_tmp[sp] = n4_points.most_common()[0][0]\n",
    "        elif len(n4_points)>1: grid_tmp[sp] = -1\n",
    "        else: redo_pts.append(sp)\n",
    "    #     print(grid_tmp)\n",
    "    for sp in search_points: grid[sp] = grid_tmp[sp]\n",
    "    # new search points\n",
    "    searched_points = searched_points.union(search_points)\n",
    "    for p in redo_pts: searched_points.remove(p)\n",
    "    search_points = set(chain.from_iterable([n4(p) for p in search_points]))\n",
    "    search_points = {sp for sp in search_points if sp not in searched_points}\n",
    "    if len(searched_points) == grid.size: break\n",
    "\n",
    "inf_ids = set(grid[0,:]).union(grid[-1,:]).union(grid[:,0]).union(grid[:,-1])\n",
    "cts = Counter(chain.from_iterable(grid.tolist())).most_common()\n",
    "\n",
    "[x for x in cts if x[0] not in inf_ids][0][1]"
   ]
  },
  {
   "cell_type": "code",
   "execution_count": null,
   "metadata": {},
   "outputs": [],
   "source": []
  },
  {
   "cell_type": "code",
   "execution_count": null,
   "metadata": {},
   "outputs": [],
   "source": []
  },
  {
   "cell_type": "code",
   "execution_count": 7,
   "metadata": {},
   "outputs": [
    {
     "data": {
      "text/plain": [
       "4011"
      ]
     },
     "execution_count": 7,
     "metadata": {},
     "output_type": "execute_result"
    }
   ],
   "source": [
    "import re\n",
    "from copy import deepcopy\n",
    "from itertools import chain\n",
    "from collections import Counter\n",
    "\n",
    "def Input(day): return open('input{}.txt'.format(day))\n",
    "inp = Input(6).read()[:-1].splitlines()\n",
    "\n",
    "def parse(line):\n",
    "    return tuple(int(x) for x in re.match(r\"(\\d+), (\\d+)\", line).groups())\n",
    "\n",
    "def p_in_grid(p, x_min, y_min, x_max, y_max):\n",
    "    return True if p[0]>=x_min and p[1]>=y_min and p[0]<=x_max and p[1]<=y_max else False\n",
    "\n",
    "def n4(p):\n",
    "    x, y = p\n",
    "    ps = ((x, y-1), (x-1, y), (x+1, y), (x, y+1))\n",
    "    return tuple(p for p in ps if p_in_grid(p,0,0,x_max,y_max))\n",
    "\n",
    "def d6p1(inp):\n",
    "    points = [parse(line) for i,line in enumerate(inp)]\n",
    "    \n",
    "    x_max = max([x for x,y in points])\n",
    "    y_max = max([y for x,y in points])\n",
    "    blank_grid = [[deepcopy(0) for _ in range(y_max+1)] for _ in range(x_max+1)]\n",
    "    grid = deepcopy(blank_grid)\n",
    "    for i,(x,y) in enumerate(points): grid[x][y] = i+1\n",
    "    \n",
    "    searched_points = set(points)\n",
    "    search_points = set(chain.from_iterable([n4(p) for p in points]))\n",
    "    for i in range(1000):\n",
    "        redo_pts = []\n",
    "        grid_tmp = deepcopy(blank_grid)\n",
    "        for x,y in search_points:\n",
    "            n4_points = Counter([grid[nx][ny] for nx,ny in n4((x,y)) if (grid[nx][ny]!=0) and (grid[nx][ny]!=-1)])\n",
    "            if len(n4_points)==1: grid_tmp[x][y] = n4_points.most_common()[0][0]\n",
    "            elif len(n4_points)>1: grid_tmp[x][y] = -1\n",
    "            else: redo_pts.append((x,y))\n",
    "        for x,y in search_points: grid[x][y] = grid_tmp[x][y]\n",
    "        searched_points = searched_points.union(search_points)\n",
    "        for p in redo_pts: searched_points.remove(p)\n",
    "        search_points = set(chain.from_iterable([n4(p) for p in search_points]))\n",
    "        search_points = {sp for sp in search_points if sp not in searched_points}\n",
    "        if len(searched_points) == (x_max+1)*(y_max+1): break\n",
    "\n",
    "    inf_ids = set([y[0] for y in grid]).union(grid[0]).union(grid[-1])\n",
    "    cts = Counter(chain.from_iterable(grid)).most_common()\n",
    "    return [x for x in cts if x[0] not in inf_ids][0][1]\n",
    "\n",
    "d6p1(inp)"
   ]
  },
  {
   "cell_type": "code",
   "execution_count": null,
   "metadata": {},
   "outputs": [],
   "source": []
  },
  {
   "cell_type": "code",
   "execution_count": null,
   "metadata": {},
   "outputs": [],
   "source": [
    "\n",
    "inf_ids = set(grid[0,:]).union(grid[-1,:]).union(grid[:,0]).union(grid[:,-1])\n",
    "cts = Counter(chain.from_iterable(grid.tolist())).most_common()\n",
    "\n",
    "[x for x in cts if x[0] not in inf_ids][0][1]"
   ]
  },
  {
   "cell_type": "code",
   "execution_count": null,
   "metadata": {},
   "outputs": [],
   "source": []
  },
  {
   "cell_type": "code",
   "execution_count": null,
   "metadata": {},
   "outputs": [],
   "source": []
  },
  {
   "cell_type": "code",
   "execution_count": null,
   "metadata": {},
   "outputs": [],
   "source": [
    "inf_ids = set(grid[0,:]).union(grid[-1,:]).union(grid[:,0]).union(grid[:,-1])\n",
    "cts = Counter(chain.from_iterable(grid.tolist())).most_common()\n",
    "\n",
    "[x for x in cts if x[0] not in inf_ids][0][1]"
   ]
  },
  {
   "cell_type": "code",
   "execution_count": null,
   "metadata": {},
   "outputs": [],
   "source": []
  },
  {
   "cell_type": "code",
   "execution_count": null,
   "metadata": {},
   "outputs": [],
   "source": []
  },
  {
   "cell_type": "code",
   "execution_count": null,
   "metadata": {},
   "outputs": [],
   "source": []
  },
  {
   "cell_type": "code",
   "execution_count": null,
   "metadata": {},
   "outputs": [],
   "source": [
    "# part 2"
   ]
  },
  {
   "cell_type": "code",
   "execution_count": null,
   "metadata": {},
   "outputs": [],
   "source": [
    "n4_points = Counter([grid[p] for p in neighbors4(sp) if (grid[p]!=0) and (grid[p]!=1)])\n",
    "if len(n4_points)==1: grid[sp] = n4_points.most_common()[0][0]\n",
    "elif len(n4_points)>1: grid[sp] = -1"
   ]
  },
  {
   "cell_type": "code",
   "execution_count": null,
   "metadata": {},
   "outputs": [],
   "source": [
    "searched_points = searched_points.union(search_points)"
   ]
  },
  {
   "cell_type": "code",
   "execution_count": null,
   "metadata": {},
   "outputs": [],
   "source": [
    "x_max, y_max"
   ]
  },
  {
   "cell_type": "code",
   "execution_count": null,
   "metadata": {},
   "outputs": [],
   "source": [
    "# chain neighbors\n",
    "foo = set(chain.from_iterable([neighbors4(p) for p in search_points]))\n",
    "# remove out of grid bounds points\n",
    "foo = {p for p in foo if p[0]>=0 and p[1]>=0 and p[0]<=x_max+1 and p[1]<=y_max+1}\n",
    "# remove searched points\n",
    "foo = {p for p in foo if p not in searched_points}"
   ]
  },
  {
   "cell_type": "code",
   "execution_count": null,
   "metadata": {},
   "outputs": [],
   "source": []
  },
  {
   "cell_type": "code",
   "execution_count": null,
   "metadata": {},
   "outputs": [],
   "source": []
  },
  {
   "cell_type": "code",
   "execution_count": null,
   "metadata": {},
   "outputs": [],
   "source": [
    "data = points"
   ]
  },
  {
   "cell_type": "code",
   "execution_count": null,
   "metadata": {},
   "outputs": [],
   "source": [
    "import numpy as np\n",
    "from scipy.spatial import distance\n",
    "\n",
    "# read the data using scipy\n",
    "points = np.loadtxt('input6.txt', delimiter=', ')\n",
    "\n",
    "# build a grid of the appropriate size - note the -1 and +2 to ensure all points\n",
    "# are within the grid\n",
    "xmin, ymin = points.min(axis=0) - 1\n",
    "xmax, ymax = points.max(axis=0) + 2\n",
    "\n",
    "# and use mesgrid to build the target coordinates\n",
    "xgrid, ygrid = np.meshgrid(np.arange(xmin, xmax), np.arange(xmin, xmax))\n",
    "targets = np.dstack([xgrid, ygrid]).reshape(-1, 2)\n",
    "\n",
    "# happily scipy.spatial.distance has cityblock (or manhatten) distance out\n",
    "# of the box\n",
    "cityblock = distance.cdist(points, targets, metric='cityblock')\n",
    "# the resulting array is an input points x target points array\n",
    "# so get the index of the maximum along axis 0 to tie each target coordinate\n",
    "# to closest ID\n",
    "closest_origin = np.argmin(cityblock, axis=0)\n",
    "# we need to filter out points with competing closest IDs though\n",
    "min_distances = np.min(cityblock, axis=0)\n",
    "competing_locations_filter = (cityblock == min_distances).sum(axis=0) > 1\n",
    "# note, integers in numpy don't support NaN, so make the ID higher than\n",
    "# the possible point ID\n",
    "closest_origin[competing_locations_filter] = len(points) + 1\n",
    "# and those points around the edge of the region for \"infinite\" regions\n",
    "closest_origin = closest_origin.reshape(xgrid.shape)\n",
    "infinite_ids = np.unique(np.vstack([\n",
    "    closest_origin[0],\n",
    "    closest_origin[-1],\n",
    "    closest_origin[:, 0],\n",
    "    closest_origin[:, -1]\n",
    "]))\n",
    "closest_origin[np.isin(closest_origin, infinite_ids)] = len(points) + 1\n",
    "\n",
    "# and because we know the id of the \"null\" data is guaranteed to be last\n",
    "# in the array (it's highest) we can index it out before getting the max\n",
    "# region size\n",
    "print(np.max(np.bincount(closest_origin.ravel())[:-1]))\n",
    "\n",
    "# finally, make a pretty picture for good measure\n",
    "import matplotlib.pyplot as plt\n",
    "plt.imshow(np.where(closest_origin > len(points), np.NaN, closest_origin))\n",
    "plt.colorbar()\n",
    "plt.show()"
   ]
  },
  {
   "cell_type": "code",
   "execution_count": null,
   "metadata": {},
   "outputs": [],
   "source": []
  },
  {
   "cell_type": "code",
   "execution_count": null,
   "metadata": {},
   "outputs": [],
   "source": []
  },
  {
   "cell_type": "markdown",
   "metadata": {},
   "source": [
    "# END"
   ]
  }
 ],
 "metadata": {
  "kernelspec": {
   "display_name": "Python 3",
   "language": "python",
   "name": "python3"
  },
  "language_info": {
   "codemirror_mode": {
    "name": "ipython",
    "version": 3
   },
   "file_extension": ".py",
   "mimetype": "text/x-python",
   "name": "python",
   "nbconvert_exporter": "python",
   "pygments_lexer": "ipython3",
   "version": "3.6.6"
  }
 },
 "nbformat": 4,
 "nbformat_minor": 2
}
